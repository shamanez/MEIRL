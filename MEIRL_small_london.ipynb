{
 "cells": [
  {
   "cell_type": "markdown",
   "metadata": {},
   "source": [
    "# MEIRL"
   ]
  },
  {
   "cell_type": "code",
   "execution_count": 20,
   "metadata": {
    "collapsed": true
   },
   "outputs": [],
   "source": [
    "import pandas as pd\n",
    "import numpy as np\n",
    "import random"
   ]
  },
  {
   "cell_type": "code",
   "execution_count": 21,
   "metadata": {
    "collapsed": true
   },
   "outputs": [],
   "source": [
    "area = \"small_london\"\n",
    "filename = \"data/\" + area + \"/adjacency_matrix.csv\"\n",
    "adjacency_matrix = pd.read_csv(filename, index_col=0)"
   ]
  },
  {
   "cell_type": "code",
   "execution_count": 22,
   "metadata": {
    "collapsed": true
   },
   "outputs": [],
   "source": [
    "expert_feature_count = adjacency_matrix.copy()\n",
    "expert_feature_count[\"value\"] = 0\n",
    "expert_feature_count = expert_feature_count[\"value\"]\n",
    "expert_feature_count = expert_feature_count.to_frame()\n",
    "learner_feature_count = expert_feature_count.copy()\n",
    "test_feature_count = expert_feature_count.copy()"
   ]
  },
  {
   "cell_type": "code",
   "execution_count": 23,
   "metadata": {
    "collapsed": true
   },
   "outputs": [],
   "source": [
    "# cross_validation\n",
    "all_data = 120\n",
    "training_number = int(all_data * 0.75)\n",
    "test_number = int(all_data * 0.25)"
   ]
  },
  {
   "cell_type": "markdown",
   "metadata": {},
   "source": [
    "# Import expert trajectory"
   ]
  },
  {
   "cell_type": "markdown",
   "metadata": {},
   "source": [
    "### prepare dataset for training"
   ]
  },
  {
   "cell_type": "code",
   "execution_count": 35,
   "metadata": {},
   "outputs": [
    {
     "data": {
      "text/plain": [
       "'333722491'"
      ]
     },
     "execution_count": 35,
     "metadata": {},
     "output_type": "execute_result"
    }
   ],
   "source": [
    " "
   ]
  },
  {
   "cell_type": "code",
   "execution_count": 24,
   "metadata": {
    "collapsed": true,
    "scrolled": true
   },
   "outputs": [],
   "source": [
    "start_point_list = []\n",
    "for i in range (1,training_number):\n",
    "    filename = \"data/\" + area + \"/\" + str(i)\n",
    "    file = open(filename, \"r\")\n",
    "    expert_trajectory = file.read().split(', ')\n",
    "    start_point_list.append(expert_trajectory[0])\n",
    "    for j in expert_trajectory:\n",
    "        current_count = int(expert_feature_count.loc[int(j), [\"value\"]].values[0])\n",
    "        add_count = expert_trajectory.count(j)\n",
    "        new_count = current_count + add_count \n",
    "        expert_feature_count.loc[int(j), [\"value\"]] = new_count\n",
    "expert_feature_count = (expert_feature_count - expert_feature_count.min()) / expert_feature_count.max() - expert_feature_count.min()    "
   ]
  },
  {
   "cell_type": "markdown",
   "metadata": {},
   "source": [
    "### prepare for testing"
   ]
  },
  {
   "cell_type": "code",
   "execution_count": 25,
   "metadata": {
    "collapsed": true
   },
   "outputs": [],
   "source": [
    "for i in range (training_number + 1 , all_data):\n",
    "    filename = \"data/\" + area + \"/\" + str(i)\n",
    "    file = open(filename, \"r\")\n",
    "    expert_trajectory = file.read().split(', ')\n",
    "    for j in expert_trajectory:\n",
    "        current_count = int(test_feature_count.loc[int(j), [\"value\"]].values[0])\n",
    "        add_count = expert_trajectory.count(j)\n",
    "        new_count = current_count + add_count \n",
    "        test_feature_count.loc[int(j), [\"value\"]] = new_count\n",
    "test_feature_count = (test_feature_count - test_feature_count.min()) / test_feature_count.max() - test_feature_count.min()    "
   ]
  },
  {
   "cell_type": "markdown",
   "metadata": {},
   "source": [
    "# Let's train"
   ]
  },
  {
   "cell_type": "code",
   "execution_count": 26,
   "metadata": {
    "collapsed": true
   },
   "outputs": [],
   "source": [
    "#Initialization of reward parameter\n",
    "reward_parameter = expert_feature_count.copy()\n",
    "reward_parameter.columns = [\"value\"]\n",
    "reward_parameter[\"value\"] = np.random.random_sample(reward_parameter.shape[0])"
   ]
  },
  {
   "cell_type": "code",
   "execution_count": 27,
   "metadata": {
    "collapsed": true
   },
   "outputs": [],
   "source": [
    "def update_position(current_position, eps, reward):\n",
    "    action_list = np.array(adjacency_matrix[adjacency_matrix[current_position] == 1].index)\n",
    "    value_list = reward[reward.index.isin(action_list)]\n",
    "\n",
    "    if np.random.random() > eps:\n",
    "        updated_position = random.choice(value_list[value_list[\"value\"] == max(value_list[\"value\"])].index.tolist())\n",
    "#         gained_reward = value_list.loc[updated_position, \"value\"]\n",
    "    else:\n",
    "        updated_position = random.choice(value_list[\"value\"].index.tolist())\n",
    "#         gained_reward = value_list.loc[updated_position, \"value\"]\n",
    "\n",
    "    return updated_position"
   ]
  },
  {
   "cell_type": "code",
   "execution_count": null,
   "metadata": {
    "collapsed": true
   },
   "outputs": [],
   "source": []
  },
  {
   "cell_type": "code",
   "execution_count": 28,
   "metadata": {},
   "outputs": [
    {
     "name": "stdout",
     "output_type": "stream",
     "text": [
      "0 23.5731225296\n",
      "0.34668441721\n",
      "1 28.5909090909\n",
      "0.197347497001\n",
      "2 32.3860875966\n",
      "0.0209256600095\n",
      "3 31.9178321678\n",
      "0.280667776221\n",
      "4 30.7272727273\n",
      "0.315281423081\n",
      "5 29.0241935484\n",
      "0.416953661895\n",
      "6 30.242205448\n",
      "0.343298838255\n",
      "7 34.7604278075\n",
      "0.315234350129\n",
      "8 32.4410022008\n",
      "0.437545499045\n",
      "9 35.0781767252\n",
      "0.234909204673\n",
      "10 29.0219435737\n",
      "0.475357773884\n",
      "11 31.8393458393\n",
      "0.463397030243\n",
      "12 34.9478005865\n",
      "0.370009510267\n",
      "13 32.3771913971\n",
      "0.471644684031\n",
      "14 32.3504611331\n",
      "0.285352211609\n",
      "15 30.9030732861\n",
      "0.429871271932\n",
      "16 31.6060606061\n",
      "0.406648359018\n",
      "17 34.3390909091\n",
      "0.437503015383\n",
      "18 30.6853675292\n",
      "0.448363322749\n",
      "19 34.2749231445\n",
      "0.30758345877\n",
      "20 31.9381146558\n",
      "0.474446248481\n",
      "21 32.9852885704\n",
      "0.312163045145\n",
      "22 32.1213733075\n",
      "0.35807344556\n",
      "23 31.6229885057\n",
      "0.346327333847\n",
      "24 32.9883141433\n",
      "0.376505810779\n",
      "25 31.544011544\n",
      "0.498166203364\n",
      "26 31.1212121212\n",
      "0.440732573032\n",
      "27 32.315732172\n",
      "0.47293200242\n",
      "28 35.0297202797\n",
      "0.374694307126\n",
      "29 34.4575439553\n",
      "0.285352213905\n",
      "30 30.3209140586\n",
      "0.434070905203\n",
      "31 32.0776640578\n",
      "0.457774201479\n",
      "32 31.6318067897\n",
      "0.430605161919\n",
      "33 34.192513369\n",
      "0.306591327054\n",
      "34 34.3956780924\n",
      "0.310241205688\n",
      "35 33.3889177489\n",
      "0.461640280063\n",
      "36 32.9416058394\n",
      "0.490637360825\n",
      "37 30.3686868687\n",
      "0.398380908817\n",
      "38 35.8366197183\n",
      "0.339915067935\n",
      "39 33.9216649805\n",
      "0.423194818649\n",
      "40 33.7186633591\n",
      "0.397808108278\n",
      "41 32.8849557522\n",
      "0.227675750292\n",
      "42 33.1732446415\n",
      "0.458749083042\n",
      "43 32.8359535202\n",
      "0.510319169604\n",
      "44 30.8882402002\n",
      "0.435421581468\n",
      "45 31.1467230444\n",
      "0.411725369664\n",
      "46 34.3601398601\n",
      "0.4567198649\n",
      "47 31.0909090909\n",
      "0.280209113131\n",
      "48 31.2156116135\n",
      "0.43338582825\n",
      "49 32.0188772976\n",
      "0.422430435621\n",
      "50 33.4912959381\n",
      "0.409351228796\n",
      "51 32.0396475771\n",
      "0.40534718456\n",
      "52 33.7316170555\n",
      "0.284559147375\n",
      "53 30.1532344724\n",
      "0.452692407908\n",
      "54 32.0615996026\n",
      "0.598528614693\n",
      "55 31.5713741185\n",
      "0.347410754107\n",
      "56 32.4993067934\n",
      "0.330063222403\n",
      "57 31.6121809225\n",
      "0.41754364385\n",
      "58 31.9133489461\n",
      "0.514334251033\n",
      "59 31.5208986416\n",
      "0.409772145816\n",
      "60 32.4601113173\n",
      "0.384140008909\n",
      "61 32.4191627255\n",
      "0.407909783304\n",
      "62 30.756693145\n",
      "0.369362131659\n",
      "63 32.193877551\n",
      "0.352545599511\n",
      "64 33.6759319817\n",
      "0.380517446047\n",
      "65 33.1414141414\n",
      "0.358706459005\n",
      "66 33.0577599196\n",
      "0.366447616831\n",
      "67 35.7390243902\n",
      "0.355184739761\n",
      "68 29.1453472781\n",
      "0.413271744388\n",
      "69 32.5759005146\n",
      "0.425128870326\n",
      "70 35.2859336609\n",
      "0.394857482622\n",
      "71 31.5422861321\n",
      "0.381217295468\n",
      "72 34.264185479\n",
      "0.368451180392\n",
      "73 34.3081834986\n",
      "0.343916530703\n",
      "74 31.4175172086\n",
      "0.371088146687\n",
      "75 32.4167995747\n",
      "0.416746682435\n",
      "76 33.925710487\n",
      "0.421954982339\n",
      "77 31.9959483414\n",
      "0.425181250976\n",
      "78 32.4908123791\n",
      "0.300515919655\n",
      "79 33.85643124\n",
      "0.376950933097\n",
      "80 34.2219810041\n",
      "0.32813770021\n",
      "81 31.2867878788\n",
      "0.37715222243\n",
      "82 33.1393442623\n",
      "0.376231610025\n",
      "83 30.6548295455\n",
      "0.521940959707\n",
      "84 31.5867768595\n",
      "0.477155709886\n",
      "85 33.6390374332\n",
      "0.368680711983\n",
      "86 31.6637887252\n",
      "0.345516956293\n",
      "87 33.9435430096\n",
      "0.365272849592\n",
      "88 32.7190438871\n",
      "0.527454382697\n",
      "89 30.4710327456\n",
      "0.457498280557\n",
      "90 34.854903717\n",
      "0.357658246065\n",
      "91 32.4177383592\n",
      "0.459372670107\n",
      "92 33.2412076974\n",
      "0.253699855086\n",
      "93 34.4320712695\n",
      "0.388418547782\n",
      "94 34.2052276318\n",
      "0.363848336571\n",
      "95 31.6231366786\n",
      "0.420135136786\n",
      "96 34.3830422451\n",
      "0.321126906808\n",
      "97 33.2987012987\n",
      "0.327023442768\n",
      "98 32.8096768097\n",
      "0.393573408269\n",
      "99 32.1607843137\n",
      "0.492507615116\n"
     ]
    }
   ],
   "source": [
    "# how many iterations?\n",
    "Y = []\n",
    "iteration = 100\n",
    "for i in range (iteration):\n",
    "    epsilon = 1 / (i+1)  \n",
    "    learner_feature_count[\"value\"] = 0\n",
    "    for j in range (1,training_number):\n",
    "        start_position = random.choice(adjacency_matrix.columns)\n",
    "        current_position = start_position\n",
    "        # agent will walk for 50 steps\n",
    "        for k in range(50):\n",
    "            current_position = str(update_position(current_position, epsilon, reward_parameter))\n",
    "            learner_feature_count.loc[int(current_position), [\"value\"]] += 1\n",
    "    \n",
    "    learner_feature_count = (learner_feature_count - learner_feature_count.min()) / (learner_feature_count.max() - learner_feature_count.min() )   \n",
    "    gradient = (expert_feature_count - learner_feature_count) \n",
    "    reward_parameter = (gradient*0.2) + reward_parameter\n",
    "    reward_parameter = (reward_parameter - reward_parameter.min()) / (reward_parameter.max() - reward_parameter.min() )   \n",
    "    \n",
    "    difference = gradient.abs().sum().values[0]\n",
    "    Y.append(difference)\n",
    "    print(i, difference)\n",
    "    \n",
    "    correlation_dataframe = pd.concat([learner_feature_count, test_feature_count], axis=1)\n",
    "    correlation = correlation_dataframe.corr().values[0][1]\n",
    "    print(correlation)"
   ]
  },
  {
   "cell_type": "code",
   "execution_count": null,
   "metadata": {
    "collapsed": true
   },
   "outputs": [],
   "source": []
  },
  {
   "cell_type": "markdown",
   "metadata": {},
   "source": [
    "# Local Depth"
   ]
  },
  {
   "cell_type": "code",
   "execution_count": 29,
   "metadata": {
    "collapsed": true
   },
   "outputs": [],
   "source": [
    "#local depth\n",
    "filename = \"data/\" + area + \"/\" + \"closeness_centrality.csv\"\n",
    "\n",
    "closeness_centrality = pd.read_csv(filename, index_col=0)\n",
    "adjacent_node = adjacency_matrix.sum().to_frame()\n",
    "adjacent_node.columns = [\"closeness_centrality\"]\n",
    "adjacent_node.index = adjacent_node.index.map(int)\n",
    "mean_depth = (closeness_centrality - adjacent_node) / (adjacent_node.shape[0] - 1)\n",
    "relative_asymmetry = (2*(mean_depth - 1)) / (adjacent_node.shape[0] - 2)\n",
    "relative_asymmetry = (relative_asymmetry - relative_asymmetry.min()) / (relative_asymmetry.max() - relative_asymmetry.min() )   "
   ]
  },
  {
   "cell_type": "code",
   "execution_count": 30,
   "metadata": {
    "collapsed": true
   },
   "outputs": [],
   "source": [
    "correlation_dataframe = pd.concat([relative_asymmetry, test_feature_count], axis=1)\n",
    "correlation_local_depth = - correlation_dataframe.corr().values[0][1]"
   ]
  },
  {
   "cell_type": "code",
   "execution_count": 31,
   "metadata": {},
   "outputs": [
    {
     "data": {
      "text/plain": [
       "0.24347970952915404"
      ]
     },
     "execution_count": 31,
     "metadata": {},
     "output_type": "execute_result"
    }
   ],
   "source": [
    "correlation_local_depth"
   ]
  },
  {
   "cell_type": "markdown",
   "metadata": {},
   "source": [
    "# Connectivity "
   ]
  },
  {
   "cell_type": "code",
   "execution_count": 32,
   "metadata": {},
   "outputs": [
    {
     "data": {
      "text/plain": [
       "0.48454198612834476"
      ]
     },
     "execution_count": 32,
     "metadata": {},
     "output_type": "execute_result"
    }
   ],
   "source": [
    "mean_depth = adjacent_node / (adjacent_node.shape[0] - 1)\n",
    "relative_asymmetry = (2*(mean_depth - 1)) / (adjacent_node.shape[0] - 2)\n",
    "relative_asymmetry = (relative_asymmetry - relative_asymmetry.min()) / (relative_asymmetry.max() - relative_asymmetry.min() )   \n",
    "correlation_dataframe = pd.concat([relative_asymmetry, test_feature_count], axis=1)\n",
    "correlation_connectivity = correlation_dataframe.corr().values[0][1]\n",
    "correlation_connectivity"
   ]
  },
  {
   "cell_type": "markdown",
   "metadata": {},
   "source": [
    "# Global Depth"
   ]
  },
  {
   "cell_type": "code",
   "execution_count": 33,
   "metadata": {},
   "outputs": [
    {
     "data": {
      "text/plain": [
       "0.24343890127192974"
      ]
     },
     "execution_count": 33,
     "metadata": {},
     "output_type": "execute_result"
    }
   ],
   "source": [
    "mean_depth = closeness_centrality / (adjacent_node.shape[0] - 1)\n",
    "relative_asymmetry = (2*(mean_depth - 1)) / (adjacent_node.shape[0] - 2)\n",
    "relative_asymmetry = (relative_asymmetry - relative_asymmetry.min()) / (relative_asymmetry.max() - relative_asymmetry.min() )   \n",
    "correlation_dataframe = pd.concat([relative_asymmetry, test_feature_count], axis=1)\n",
    "correlation_global_depth = - correlation_dataframe.corr().values[0][1]\n",
    "correlation_global_depth"
   ]
  },
  {
   "cell_type": "code",
   "execution_count": null,
   "metadata": {
    "collapsed": true
   },
   "outputs": [],
   "source": []
  },
  {
   "cell_type": "code",
   "execution_count": null,
   "metadata": {
    "collapsed": true
   },
   "outputs": [],
   "source": []
  },
  {
   "cell_type": "code",
   "execution_count": null,
   "metadata": {
    "collapsed": true
   },
   "outputs": [],
   "source": []
  },
  {
   "cell_type": "code",
   "execution_count": null,
   "metadata": {
    "collapsed": true
   },
   "outputs": [],
   "source": []
  }
 ],
 "metadata": {
  "kernelspec": {
   "display_name": "Python 3",
   "language": "python",
   "name": "python3"
  },
  "language_info": {
   "codemirror_mode": {
    "name": "ipython",
    "version": 3
   },
   "file_extension": ".py",
   "mimetype": "text/x-python",
   "name": "python",
   "nbconvert_exporter": "python",
   "pygments_lexer": "ipython3",
   "version": "3.6.1"
  }
 },
 "nbformat": 4,
 "nbformat_minor": 2
}
